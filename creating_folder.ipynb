{
 "cells": [
  {
   "cell_type": "code",
   "execution_count": 1,
   "id": "761a76c7",
   "metadata": {},
   "outputs": [],
   "source": [
    "import os"
   ]
  },
  {
   "cell_type": "code",
   "execution_count": 2,
   "id": "afd6107c",
   "metadata": {},
   "outputs": [],
   "source": [
    "labels = ['Almira','Bora','Carrom Board','Chatai','Balti','Table','Chair','Laptop','Mobile',\n",
    "          'Earphone','Chappal','Juta','Sandle','Charger','Inverter','Battery','Bed','Box','Headphone',\n",
    "          'Wire','Headphone','Keyboard','Mouse','Switch Board','Comb','Bottle','Balti','Scissor','Books',\n",
    "          'Dust','Pencil','Pen','Stepler',]"
   ]
  },
  {
   "cell_type": "code",
   "execution_count": 3,
   "id": "66b5e40e",
   "metadata": {},
   "outputs": [],
   "source": [
    "IMAGES_PATH = os.path.join('project_images', 'workspace', 'images', 'collectedimages')"
   ]
  },
  {
   "cell_type": "code",
   "execution_count": 4,
   "id": "fbbe2d8c",
   "metadata": {},
   "outputs": [
    {
     "name": "stderr",
     "output_type": "stream",
     "text": [
      "A subdirectory or file Board already exists.\n",
      "Error occurred while processing: Board.\n"
     ]
    }
   ],
   "source": [
    "if not os.path.exists(IMAGES_PATH):\n",
    "    if os.name == 'posix':\n",
    "        !mkdir -p {IMAGES_PATH}\n",
    "    if os.name == 'nt':\n",
    "         !mkdir {IMAGES_PATH}\n",
    "for label in labels:\n",
    "    path = os.path.join(IMAGES_PATH, label)\n",
    "    if not os.path.exists(path):\n",
    "        !mkdir {path}"
   ]
  },
  {
   "cell_type": "code",
   "execution_count": null,
   "id": "21b81229",
   "metadata": {},
   "outputs": [],
   "source": []
  }
 ],
 "metadata": {
  "kernelspec": {
   "display_name": "odwtf",
   "language": "python",
   "name": "odwtf"
  },
  "language_info": {
   "codemirror_mode": {
    "name": "ipython",
    "version": 3
   },
   "file_extension": ".py",
   "mimetype": "text/x-python",
   "name": "python",
   "nbconvert_exporter": "python",
   "pygments_lexer": "ipython3",
   "version": "3.7.4"
  }
 },
 "nbformat": 4,
 "nbformat_minor": 5
}
